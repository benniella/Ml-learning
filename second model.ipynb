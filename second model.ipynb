import numpy as np
import pandas as pd
import matplotlib.pyplot as plt
import seaborn as sns
from sklearn import svm

# New Section

df = pd.read_csv('loan.csv')
df.head()

df.info()

df.isnull().sum()

df['loanAmount_log']= np.log(df['LoanAmount'])
df['loanAmount_log'].hist(bins=20)

df.isnull().sum()


df['TotalIncome'] = df['ApplicantIncome']+ df['CoapplicantIncome']
df['TotalIncome_log'] = np.log(df['TotalIncome'])
df['TotalIncome_log'].hist(bins=20)

df['Gender'].fillna(df['Gender'].mode()[0], inplace = True)
df['Married'].fillna(df['Married'].mode()[0], inplace = True)
df['Self_Employed'].fillna(df['Self_Employed'].mode()[0], inplace = True)
df['Dependents'].fillna(df['Dependents'].mode()[0], inplace = True)

df.LoanAmount = df.LoanAmount.fillna(df.LoanAmount.mean())
df.loanAmount = df.loanAmount_log.fillna(df.LoanAmount.mean())

df['Loan_Amount_Term'].fillna(df['Loan_Amount_Term'].mode()[0], inplace = True)
df['Credit_History'].fillna(df['Credit_History'].mode()[0], inplace = True)

df.isnull().sum()

x = df.iloc[:,np.r_[1:5,9:11,13:15]].values
y = df.iloc[:,12].values

x

y

print('per of missing gender is %2f%%' %((df['Gender'].isnull().sum()/df.shape[0])*100))

print('number of people who take loan as group by gender:')
print(df['Gender'].value_counts())
sns.countplot(x='Gender', data=df, palette = 'Set1' )

print('number of people who take loan as group by marital status:')
print(df['Married'].value_counts())
sns.countplot(x='Married', data=df, palette = 'Set1' )

print('number of people who take loan as group by dependents:')
print(df['Dependents'].value_counts())
sns.countplot(x='Dependents', data=df, palette = 'Set1' )

print('number of people who take loan as group by self employed:')
print(df['Self_Employed'].value_counts())
sns.countplot(x='Married', data=df, palette = 'Set1' )

print('number of people who take loan as group by loan amount:')
print(df['LoanAmount'].value_counts())
sns.countplot(x='LoanAmount', data=df, palette = 'Set1' )

print('number of people who take loan as group by Credit history:')
print(df['Credit_History'].value_counts())
sns.countplot(x='Credit_History', data=df, palette = 'Set1' )

from sklearn.model_selection import train_test_split
x_train, x_test, y_train, y_test= train_test_split(x, y, test_size= 0.2, random_state= 0)

from sklearn.preprocessing import LabelEncoder
Labelencoder_x = LabelEncoder()

for i in range(0, 5):
   x_train[:, i]= Labelencoder_x.fit_transform(x_train[:,i])
   x_train[:,7]*Labelencoder_x.fit_transform(x_train[:,7])

x_train

Labelencoder_y = LabelEncoder()
y_train = Labelencoder_y.fit_transform(y_train)

y_train

for i in range(0, 5):
   x_test[:, i]= Labelencoder_x.fit_transform(x_test[:,i])
   x_test[:,7]*Labelencoder_x.fit_transform(x_test[:,7])

x_test

Labelencoder_y = LabelEncoder()
y_test = Labelencoder_y.fit_transform(y_test)

y_test


from sklearn.preprocessing import StandardScaler

ss = StandardScaler()
x_train =ss.fit_transform(x_train)
x_test = ss.fit_transform(x_test)


from sklearn.ensemble import RandomForestClassifier
from sklearn.impute import SimpleImputer

imputer = SimpleImputer(strategy='mean')
x_train = imputer.fit_transform(x_train)


rf_clf =RandomForestClassifier()
rf_clf.fit(x_train, y_train)



from sklearn import metrics
from sklearn.impute import SimpleImputer

imputer = SimpleImputer(strategy='mean')
x_test = imputer.fit_transform(x_test)

y_pred = rf_clf.predict(x_test)

#print('acc of random forest clf is', metrics.accurarcy_score(y_pred, y_test))
print('acc of random forest clf is', metrics.accuracy_score(y_pred, y_test))

y_pred


from sklearn.naive_bayes import GaussianNB
nb_classifier = GaussianNB()
#nb_clf.fit(x_train, y_train)
nb_classifier.fit(x_train, y_train)

y_pred = nb_classifier.predict(x_test)
print('acc of gaussiaNB is %.', metrics.accuracy_score(y_pred, y_test))

y_pred

from sklearn.tree import DecisionTreeClassifier
dt_clf = DecisionTreeClassifier()
dt_clf.fit(x_train, y_train)

y_pred =dt_clf.predict(x_test)
print("acc of DT is", metrics.accuracy_score(y_pred, y_test))


y_pred

from sklearn.neighbors import KNeighborsClassifier
kn_clf = KNeighborsClassifier()
kn_clf.fit(x_train, y_train)

y_pred = kn_clf.predict(x_test)
print('acc of KN is', metrics.accuracy_score(y_pred, y_test))

